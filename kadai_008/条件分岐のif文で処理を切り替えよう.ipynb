{
  "nbformat": 4,
  "nbformat_minor": 0,
  "metadata": {
    "colab": {
      "provenance": []
    },
    "kernelspec": {
      "name": "python3",
      "display_name": "Python 3"
    },
    "language_info": {
      "name": "python"
    }
  },
  "cells": [
    {
      "cell_type": "code",
      "execution_count": 1,
      "metadata": {
        "id": "kWmlHiz9TGuZ",
        "outputId": "5da363aa-2ed0-4a51-f849-01b0ffe18e32",
        "colab": {
          "base_uri": "https://localhost:8080/"
        }
      },
      "outputs": [
        {
          "output_type": "stream",
          "name": "stdout",
          "text": [
            "89\n"
          ]
        }
      ],
      "source": [
        "import random\n",
        "var = random.randint(1,1000)\n",
        "if var % 3 == 0 and var % 5 == 0:\n",
        "  print(\"FizzBuzz\")\n",
        "elif var % 3 == 0:\n",
        "    print (\"Fizz\")\n",
        "elif var % 5 == 0:\n",
        "    print (\"Buzz\")\n",
        "else:\n",
        "    print(var)"
      ]
    }
  ]
}