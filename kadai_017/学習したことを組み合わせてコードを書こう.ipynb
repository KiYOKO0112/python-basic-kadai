{
  "nbformat": 4,
  "nbformat_minor": 0,
  "metadata": {
    "colab": {
      "provenance": []
    },
    "kernelspec": {
      "name": "python3",
      "display_name": "Python 3"
    },
    "language_info": {
      "name": "python"
    }
  },
  "cells": [
    {
      "cell_type": "code",
      "source": [
        "\n",
        "class Human:\n",
        "    def __init__(self, name, age):\n",
        "        self.name = name\n",
        "        self.age = age\n",
        "    def check_adult(self):\n",
        "        if self.age >= 20:\n",
        "            print(f\"{self.name}さんは大人です。\")\n",
        "        else:\n",
        "            print(f\"{self.name}さんは大人ではありません。\")\n",
        "takewaki = Human(\"竹脇\", 25)\n",
        "ebinuma = Human(\"海老沼\", 18)\n",
        "saito = Human(\"齋藤\", 27)\n",
        "humans_list = [takewaki, ebinuma, saito]\n",
        "for person in humans_list:\n",
        "    person.check_adult()"
      ],
      "metadata": {
        "colab": {
          "base_uri": "https://localhost:8080/"
        },
        "id": "DDwyZwiA5qaP",
        "outputId": "92cfa60d-1821-486d-9352-5bff089b4d2c"
      },
      "execution_count": 30,
      "outputs": [
        {
          "output_type": "stream",
          "name": "stdout",
          "text": [
            "竹脇さんは大人です。\n",
            "海老沼さんは大人ではありません。\n",
            "齋藤さんは大人です。\n"
          ]
        }
      ]
    }
  ]
}