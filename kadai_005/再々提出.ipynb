{
  "nbformat": 4,
  "nbformat_minor": 0,
  "metadata": {
    "colab": {
      "provenance": []
    },
    "kernelspec": {
      "name": "python3",
      "display_name": "Python 3"
    },
    "language_info": {
      "name": "python"
    }
  },
  "cells": [
    {
      "cell_type": "code",
      "source": [
        "上底 = 10\n",
        "下底 = 20\n",
        "高さ = 5\n",
        "\n",
        "面積 = ((上底 + 下底) * 高さ / 2)\n",
        "\n",
        "print(f\"{面積}cm²\")\n",
        "\n"
      ],
      "metadata": {
        "colab": {
          "base_uri": "https://localhost:8080/"
        },
        "id": "8UVSNWjh4OoU",
        "outputId": "7e3faa89-547b-48da-e6ad-10a856c9b599"
      },
      "execution_count": 33,
      "outputs": [
        {
          "output_type": "stream",
          "name": "stdout",
          "text": [
            "75.0cm²\n"
          ]
        }
      ]
    }
  ]
}