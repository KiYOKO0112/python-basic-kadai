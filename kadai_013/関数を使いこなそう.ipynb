{
  "nbformat": 4,
  "nbformat_minor": 0,
  "metadata": {
    "colab": {
      "provenance": []
    },
    "kernelspec": {
      "name": "python3",
      "display_name": "Python 3"
    },
    "language_info": {
      "name": "python"
    }
  },
  "cells": [
    {
      "cell_type": "code",
      "source": [
        "def price_with_tax(price, tax_rate):\n",
        "  total = price * (1+tax_rate/100)\n",
        "  return total\n",
        "price = 110\n",
        "tax_rate = 10\n",
        "total = price_with_tax(price, tax_rate)\n",
        "print(f\"{total}円\")"
      ],
      "metadata": {
        "colab": {
          "base_uri": "https://localhost:8080/"
        },
        "id": "xOeGaxoqq64S",
        "outputId": "d7adff80-4901-41b0-8aae-6627b2bd138b"
      },
      "execution_count": 56,
      "outputs": [
        {
          "output_type": "stream",
          "name": "stdout",
          "text": [
            "121.00000000000001円\n"
          ]
        }
      ]
    },
    {
      "cell_type": "code",
      "source": [],
      "metadata": {
        "id": "ysi1xOyRpBZZ"
      },
      "execution_count": null,
      "outputs": []
    }
  ]
}