{
  "nbformat": 4,
  "nbformat_minor": 0,
  "metadata": {
    "colab": {
      "provenance": []
    },
    "kernelspec": {
      "name": "python3",
      "display_name": "Python 3"
    },
    "language_info": {
      "name": "python"
    }
  },
  "cells": [
    {
      "cell_type": "code",
      "source": [
        "class Human:\n",
        "    def __init__(self, name, age):\n",
        "        self.name = name\n",
        "        self.age = age\n",
        "    def printinfo(self):\n",
        "         print(\"名前\", self.name)\n",
        "         print(\"年齢\", self.age)\n",
        "shikishima = Human (\"敷島\", 57)\n",
        "shikishima.printinfo()"
      ],
      "metadata": {
        "colab": {
          "base_uri": "https://localhost:8080/"
        },
        "id": "zTlwYvdp7-nk",
        "outputId": "0b906bce-3d73-47ea-c447-b19f591195eb"
      },
      "execution_count": 28,
      "outputs": [
        {
          "output_type": "stream",
          "name": "stdout",
          "text": [
            "名前 敷島\n",
            "年齢 57\n"
          ]
        }
      ]
    },
    {
      "cell_type": "code",
      "source": [],
      "metadata": {
        "id": "DDwyZwiA5qaP"
      },
      "execution_count": null,
      "outputs": []
    }
  ]
}